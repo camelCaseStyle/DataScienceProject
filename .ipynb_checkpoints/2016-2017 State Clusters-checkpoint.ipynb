{
 "cells": [
  {
   "cell_type": "markdown",
   "id": "81625349",
   "metadata": {},
   "source": [
    "# Comparing Suburbs and Identifying Clusters"
   ]
  },
  {
   "cell_type": "code",
   "execution_count": 2,
   "id": "61c000e8",
   "metadata": {},
   "outputs": [],
   "source": [
    "from sklearn.cluster import KMeans\n",
    "import pandas as pd\n",
    "from sklearn.preprocessing import MinMaxScaler\n",
    "from matplotlib import pyplot as plt\n",
    "from sklearn.datasets import load_iris\n",
    "import seaborn as sns \n",
    "%matplotlib inline"
   ]
  },
  {
   "cell_type": "markdown",
   "id": "cbd11554",
   "metadata": {},
   "source": [
    "## Data Imports "
   ]
  },
  {
   "cell_type": "code",
   "execution_count": null,
   "id": "e4cc0418",
   "metadata": {},
   "outputs": [],
   "source": [
    "# 2016-2017 Data\n",
    "df = pd.read_excel(open('data/ts17individual06taxablestatusstatepostcode.xlsx', 'rb'),sheet_name='Individuals Table 6A', skiprows=2) "
   ]
  },
  {
   "cell_type": "code",
   "execution_count": null,
   "id": "d133aa85",
   "metadata": {},
   "outputs": [],
   "source": [
    "df = df.dropna()\n",
    "df.head()"
   ]
  },
  {
   "cell_type": "markdown",
   "id": "1873c7cb",
   "metadata": {},
   "source": [
    "## NSW dataframe"
   ]
  },
  {
   "cell_type": "code",
   "execution_count": null,
   "id": "307f4655",
   "metadata": {},
   "outputs": [],
   "source": [
    "df_nsw = df[df['State/ Territory1'] == 'NSW']\n",
    "df_nsw"
   ]
  },
  {
   "cell_type": "markdown",
   "id": "8e535c60",
   "metadata": {},
   "source": [
    "### Taxable Income or Loss"
   ]
  },
  {
   "cell_type": "code",
   "execution_count": null,
   "id": "fa44915d",
   "metadata": {},
   "outputs": [],
   "source": [
    "df_nsw_taxable_income = df_nsw[['Postcode', 'Taxable income or loss3\\n$']].copy()\n",
    "df_nsw_taxable_income = df_nsw_taxable_income.rename(columns={'Taxable income or loss3\\n$': 'Taxable income or loss'})\n",
    "df_nsw_taxable_income = df_nsw_taxable_income[df_nsw_taxable_income['Postcode'] != 'NSW other']\n",
    "df_nsw_taxable_income"
   ]
  },
  {
   "cell_type": "markdown",
   "id": "e88087d3",
   "metadata": {},
   "source": [
    "Calculate the standard square to understand how many clusters we should pick"
   ]
  },
  {
   "cell_type": "code",
   "execution_count": null,
   "id": "48cd2957",
   "metadata": {},
   "outputs": [],
   "source": [
    "sse = []\n",
    "k_rng = range(1,10)\n",
    "for k in k_rng:\n",
    "    km = KMeans(n_clusters=k)\n",
    "    km.fit(df_nsw_taxable_income)\n",
    "    sse.append(km.inertia_)"
   ]
  },
  {
   "cell_type": "code",
   "execution_count": null,
   "id": "2ff35d8a",
   "metadata": {},
   "outputs": [],
   "source": [
    "plt.xlabel('K')\n",
    "plt.ylabel('Sum of squared error')\n",
    "plt.plot(k_rng,sse)"
   ]
  },
  {
   "cell_type": "markdown",
   "id": "85952d21",
   "metadata": {},
   "source": [
    "- From the graph above, we see that it elbows at around k = 4. We will use our value of k as 4.** "
   ]
  },
  {
   "cell_type": "code",
   "execution_count": null,
   "id": "1f425146",
   "metadata": {},
   "outputs": [],
   "source": [
    "km = KMeans(n_clusters=4)\n",
    "yp = km.fit_predict(df_nsw_taxable_income)\n",
    "\n",
    "df_nsw_taxable_income['cluster'] = yp\n",
    "\n",
    "df1 = df_nsw_taxable_income[df_nsw_taxable_income.cluster==0]\n",
    "df2 = df_nsw_taxable_income[df_nsw_taxable_income.cluster==1]\n",
    "df3 = df_nsw_taxable_income[df_nsw_taxable_income.cluster==2]\n",
    "df4 = df_nsw_taxable_income[df_nsw_taxable_income.cluster==3]\n",
    "df1.head()"
   ]
  },
  {
   "cell_type": "code",
   "execution_count": null,
   "id": "21d0147f",
   "metadata": {},
   "outputs": [],
   "source": [
    "plt.title(\"NSW Postcode Clusters Based on Taxable Income\")\n",
    "plt.xlabel(\"Postcode\")\n",
    "plt.ylabel(\"Taxable Income or Loss\")\n",
    "\n",
    "plt.scatter(df1['Postcode'],df1['Taxable income or loss'],color='blue')\n",
    "plt.scatter(df2['Postcode'],df2['Taxable income or loss'],color='green')\n",
    "plt.scatter(df3['Postcode'],df3['Taxable income or loss'],color='yellow')\n",
    "plt.scatter(df4['Postcode'],df4['Taxable income or loss'],color='red')"
   ]
  },
  {
   "cell_type": "markdown",
   "id": "35048e5c",
   "metadata": {},
   "source": [
    "### Salary/Wages"
   ]
  },
  {
   "cell_type": "code",
   "execution_count": null,
   "id": "f7d71051",
   "metadata": {},
   "outputs": [],
   "source": [
    "df_nsw_salary_wages = df_nsw[['Postcode', 'Salary or wages\\n$']].copy()\n",
    "df_nsw_salary_wages = df_nsw_salary_wages.rename(columns={'Salary or wages\\n$': 'Salary/Wages'})\n",
    "df_nsw_salary_wages = df_nsw_salary_wages[df_nsw_salary_wages['Postcode'] != 'NSW other']\n",
    "df_nsw_salary_wages"
   ]
  },
  {
   "cell_type": "code",
   "execution_count": null,
   "id": "f78df951",
   "metadata": {},
   "outputs": [],
   "source": [
    "sse = []\n",
    "k_rng = range(1,10)\n",
    "for k in k_rng:\n",
    "    km = KMeans(n_clusters=k)\n",
    "    km.fit(df_nsw_taxable_income)\n",
    "    sse.append(km.inertia_)"
   ]
  },
  {
   "cell_type": "code",
   "execution_count": null,
   "id": "35a9bb27",
   "metadata": {},
   "outputs": [],
   "source": [
    "plt.xlabel('K')\n",
    "plt.ylabel('Sum of squared error')\n",
    "plt.plot(k_rng,sse)"
   ]
  },
  {
   "cell_type": "code",
   "execution_count": null,
   "id": "e91b8207",
   "metadata": {},
   "outputs": [],
   "source": [
    "km = KMeans(n_clusters=4)\n",
    "yp = km.fit_predict(df_nsw_salary_wages)\n",
    "\n",
    "df_nsw_salary_wages['cluster'] = yp\n",
    "\n",
    "df1 = df_nsw_salary_wages[df_nsw_salary_wages.cluster==0]\n",
    "df2 = df_nsw_salary_wages[df_nsw_salary_wages.cluster==1]\n",
    "df3 = df_nsw_salary_wages[df_nsw_salary_wages.cluster==2]\n",
    "df4 = df_nsw_salary_wages[df_nsw_salary_wages.cluster==3]"
   ]
  },
  {
   "cell_type": "code",
   "execution_count": null,
   "id": "ab76ea9c",
   "metadata": {},
   "outputs": [],
   "source": [
    "plt.title(\"NSW Postcode Clusters Based on Salary/Wages\")\n",
    "plt.xlabel(\"Postcode\")\n",
    "plt.ylabel(\"Salary/Wages\")\n",
    "\n",
    "plt.scatter(df1['Postcode'],df1['Salary/Wages'],color='blue')\n",
    "plt.scatter(df2['Postcode'],df2['Salary/Wages'],color='green')\n",
    "plt.scatter(df3['Postcode'],df3['Salary/Wages'],color='yellow')\n",
    "plt.scatter(df4['Postcode'],df4['Salary/Wages'],color='red')"
   ]
  },
  {
   "cell_type": "code",
   "execution_count": null,
   "id": "69282ff9",
   "metadata": {},
   "outputs": [],
   "source": [
    "palette = ['blue', 'green','yellow','red']\n",
    "ax = sns.boxplot(x=\"cluster\", y=\"Salary/Wages\", data=df_nsw_salary_wages, palette=palette)"
   ]
  },
  {
   "cell_type": "markdown",
   "id": "dee59d33",
   "metadata": {},
   "source": [
    "## Victoria dataframe"
   ]
  },
  {
   "cell_type": "code",
   "execution_count": null,
   "id": "a863a8fb",
   "metadata": {},
   "outputs": [],
   "source": [
    "df_vic = df[df['State/ Territory1'] == 'VIC']\n",
    "df_vic"
   ]
  },
  {
   "cell_type": "markdown",
   "id": "cbe044a8",
   "metadata": {},
   "source": [
    "### Taxable Income or Loss"
   ]
  },
  {
   "cell_type": "code",
   "execution_count": 30,
   "id": "f850f81c",
   "metadata": {},
   "outputs": [
    {
     "data": {
      "text/html": [
       "<div>\n",
       "<style scoped>\n",
       "    .dataframe tbody tr th:only-of-type {\n",
       "        vertical-align: middle;\n",
       "    }\n",
       "\n",
       "    .dataframe tbody tr th {\n",
       "        vertical-align: top;\n",
       "    }\n",
       "\n",
       "    .dataframe thead th {\n",
       "        text-align: right;\n",
       "    }\n",
       "</style>\n",
       "<table border=\"1\" class=\"dataframe\">\n",
       "  <thead>\n",
       "    <tr style=\"text-align: right;\">\n",
       "      <th></th>\n",
       "      <th>Postcode</th>\n",
       "      <th>Taxable income or loss</th>\n",
       "    </tr>\n",
       "  </thead>\n",
       "  <tbody>\n",
       "    <tr>\n",
       "      <th>1617</th>\n",
       "      <td>3000</td>\n",
       "      <td>70828400</td>\n",
       "    </tr>\n",
       "    <tr>\n",
       "      <th>1618</th>\n",
       "      <td>3001</td>\n",
       "      <td>239661</td>\n",
       "    </tr>\n",
       "    <tr>\n",
       "      <th>1619</th>\n",
       "      <td>3002</td>\n",
       "      <td>7095186</td>\n",
       "    </tr>\n",
       "    <tr>\n",
       "      <th>1620</th>\n",
       "      <td>3003</td>\n",
       "      <td>9828829</td>\n",
       "    </tr>\n",
       "    <tr>\n",
       "      <th>1621</th>\n",
       "      <td>3004</td>\n",
       "      <td>13919356</td>\n",
       "    </tr>\n",
       "    <tr>\n",
       "      <th>...</th>\n",
       "      <td>...</td>\n",
       "      <td>...</td>\n",
       "    </tr>\n",
       "    <tr>\n",
       "      <th>5014</th>\n",
       "      <td>3990</td>\n",
       "      <td>3447454</td>\n",
       "    </tr>\n",
       "    <tr>\n",
       "      <th>5015</th>\n",
       "      <td>3991</td>\n",
       "      <td>6209207</td>\n",
       "    </tr>\n",
       "    <tr>\n",
       "      <th>5016</th>\n",
       "      <td>3992</td>\n",
       "      <td>19538554</td>\n",
       "    </tr>\n",
       "    <tr>\n",
       "      <th>5017</th>\n",
       "      <td>3995</td>\n",
       "      <td>192344648</td>\n",
       "    </tr>\n",
       "    <tr>\n",
       "      <th>5018</th>\n",
       "      <td>3996</td>\n",
       "      <td>135547468</td>\n",
       "    </tr>\n",
       "  </tbody>\n",
       "</table>\n",
       "<p>1402 rows × 2 columns</p>\n",
       "</div>"
      ],
      "text/plain": [
       "     Postcode  Taxable income or loss\n",
       "1617     3000                70828400\n",
       "1618     3001                  239661\n",
       "1619     3002                 7095186\n",
       "1620     3003                 9828829\n",
       "1621     3004                13919356\n",
       "...       ...                     ...\n",
       "5014     3990                 3447454\n",
       "5015     3991                 6209207\n",
       "5016     3992                19538554\n",
       "5017     3995               192344648\n",
       "5018     3996               135547468\n",
       "\n",
       "[1402 rows x 2 columns]"
      ]
     },
     "execution_count": 30,
     "metadata": {},
     "output_type": "execute_result"
    }
   ],
   "source": [
    "df_vic_taxable_income = df_vic[['Postcode', 'Taxable income or loss3\\n$']].copy()\n",
    "df_vic_taxable_income = df_vic_taxable_income.rename(columns={'Taxable income or loss3\\n$': 'Taxable income or loss'})\n",
    "df_vic_taxable_income = df_vic_taxable_income[df_vic_taxable_income['Postcode'] != 'VIC other']\n",
    "df_vic_taxable_income"
   ]
  },
  {
   "cell_type": "code",
   "execution_count": 31,
   "id": "a37e5b19",
   "metadata": {},
   "outputs": [
    {
     "name": "stderr",
     "output_type": "stream",
     "text": [
      "C:\\Users\\dylan\\anaconda3\\lib\\site-packages\\sklearn\\cluster\\_kmeans.py:881: UserWarning: KMeans is known to have a memory leak on Windows with MKL, when there are less chunks than available threads. You can avoid it by setting the environment variable OMP_NUM_THREADS=6.\n",
      "  warnings.warn(\n"
     ]
    }
   ],
   "source": [
    "sse = []\n",
    "k_rng = range(1,10)\n",
    "for k in k_rng:\n",
    "    km = KMeans(n_clusters=k)\n",
    "    km.fit(df_vic_taxable_income)\n",
    "    sse.append(km.inertia_)"
   ]
  },
  {
   "cell_type": "code",
   "execution_count": 32,
   "id": "f0783f62",
   "metadata": {},
   "outputs": [
    {
     "data": {
      "text/plain": [
       "[<matplotlib.lines.Line2D at 0x1db1d899ac0>]"
      ]
     },
     "execution_count": 32,
     "metadata": {},
     "output_type": "execute_result"
    },
    {
     "data": {
      "image/png": "[encoded data removed]",
      "text/plain": [
       "<Figure size 432x288 with 1 Axes>"
      ]
     },
     "metadata": {
      "needs_background": "light"
     },
     "output_type": "display_data"
    }
   ],
   "source": [
    "plt.xlabel('K')\n",
    "plt.ylabel('Sum of squared error')\n",
    "plt.plot(k_rng,sse)"
   ]
  },
  {
   "cell_type": "code",
   "execution_count": 33,
   "id": "83c8240d",
   "metadata": {},
   "outputs": [
    {
     "data": {
      "text/html": [
       "<div>\n",
       "<style scoped>\n",
       "    .dataframe tbody tr th:only-of-type {\n",
       "        vertical-align: middle;\n",
       "    }\n",
       "\n",
       "    .dataframe tbody tr th {\n",
       "        vertical-align: top;\n",
       "    }\n",
       "\n",
       "    .dataframe thead th {\n",
       "        text-align: right;\n",
       "    }\n",
       "</style>\n",
       "<table border=\"1\" class=\"dataframe\">\n",
       "  <thead>\n",
       "    <tr style=\"text-align: right;\">\n",
       "      <th></th>\n",
       "      <th>Postcode</th>\n",
       "      <th>Taxable income or loss</th>\n",
       "      <th>cluster</th>\n",
       "    </tr>\n",
       "  </thead>\n",
       "  <tbody>\n",
       "    <tr>\n",
       "      <th>1617</th>\n",
       "      <td>3000</td>\n",
       "      <td>70828400</td>\n",
       "      <td>0</td>\n",
       "    </tr>\n",
       "    <tr>\n",
       "      <th>1618</th>\n",
       "      <td>3001</td>\n",
       "      <td>239661</td>\n",
       "      <td>0</td>\n",
       "    </tr>\n",
       "    <tr>\n",
       "      <th>1619</th>\n",
       "      <td>3002</td>\n",
       "      <td>7095186</td>\n",
       "      <td>0</td>\n",
       "    </tr>\n",
       "    <tr>\n",
       "      <th>1620</th>\n",
       "      <td>3003</td>\n",
       "      <td>9828829</td>\n",
       "      <td>0</td>\n",
       "    </tr>\n",
       "    <tr>\n",
       "      <th>1621</th>\n",
       "      <td>3004</td>\n",
       "      <td>13919356</td>\n",
       "      <td>0</td>\n",
       "    </tr>\n",
       "  </tbody>\n",
       "</table>\n",
       "</div>"
      ],
      "text/plain": [
       "     Postcode  Taxable income or loss  cluster\n",
       "1617     3000                70828400        0\n",
       "1618     3001                  239661        0\n",
       "1619     3002                 7095186        0\n",
       "1620     3003                 9828829        0\n",
       "1621     3004                13919356        0"
      ]
     },
     "execution_count": 33,
     "metadata": {},
     "output_type": "execute_result"
    }
   ],
   "source": [
    "km = KMeans(n_clusters=4)\n",
    "yp = km.fit_predict(df_vic_taxable_income)\n",
    "\n",
    "df_vic_taxable_income['cluster'] = yp\n",
    "\n",
    "df1 = df_vic_taxable_income[df_vic_taxable_income.cluster==0]\n",
    "df2 = df_vic_taxable_income[df_vic_taxable_income.cluster==1]\n",
    "df3 = df_vic_taxable_income[df_vic_taxable_income.cluster==2]\n",
    "df4 = df_vic_taxable_income[df_vic_taxable_income.cluster==3]\n",
    "df1.head()"
   ]
  },
  {
   "cell_type": "code",
   "execution_count": 34,
   "id": "82e85f53",
   "metadata": {},
   "outputs": [
    {
     "data": {
      "text/plain": [
       "<matplotlib.collections.PathCollection at 0x1db24eebd30>"
      ]
     },
     "execution_count": 34,
     "metadata": {},
     "output_type": "execute_result"
    },
    {
     "data": {
      "image/png": "[encoded data removed]",
      "text/plain": [
       "<Figure size 432x288 with 1 Axes>"
      ]
     },
     "metadata": {
      "needs_background": "light"
     },
     "output_type": "display_data"
    }
   ],
   "source": [
    "plt.title(\"VIC Postcode Clusters Based on Taxable Income\")\n",
    "plt.xlabel(\"Postcode\")\n",
    "plt.ylabel(\"Taxable Income or Loss\")\n",
    "\n",
    "plt.scatter(df1['Postcode'],df1['Taxable income or loss'],color='blue')\n",
    "plt.scatter(df2['Postcode'],df2['Taxable income or loss'],color='green')\n",
    "plt.scatter(df3['Postcode'],df3['Taxable income or loss'],color='yellow')\n",
    "plt.scatter(df4['Postcode'],df4['Taxable income or loss'],color='red')"
   ]
  },
  {
   "cell_type": "markdown",
   "id": "64d1ae2e",
   "metadata": {},
   "source": [
    "### Salary/Wages"
   ]
  },
  {
   "cell_type": "code",
   "execution_count": 35,
   "id": "a87c828e",
   "metadata": {},
   "outputs": [
    {
     "data": {
      "text/html": [
       "<div>\n",
       "<style scoped>\n",
       "    .dataframe tbody tr th:only-of-type {\n",
       "        vertical-align: middle;\n",
       "    }\n",
       "\n",
       "    .dataframe tbody tr th {\n",
       "        vertical-align: top;\n",
       "    }\n",
       "\n",
       "    .dataframe thead th {\n",
       "        text-align: right;\n",
       "    }\n",
       "</style>\n",
       "<table border=\"1\" class=\"dataframe\">\n",
       "  <thead>\n",
       "    <tr style=\"text-align: right;\">\n",
       "      <th></th>\n",
       "      <th>Postcode</th>\n",
       "      <th>Salary/Wages</th>\n",
       "    </tr>\n",
       "  </thead>\n",
       "  <tbody>\n",
       "    <tr>\n",
       "      <th>1617</th>\n",
       "      <td>3000</td>\n",
       "      <td>59170073</td>\n",
       "    </tr>\n",
       "    <tr>\n",
       "      <th>1618</th>\n",
       "      <td>3001</td>\n",
       "      <td>150605</td>\n",
       "    </tr>\n",
       "    <tr>\n",
       "      <th>1619</th>\n",
       "      <td>3002</td>\n",
       "      <td>3531588</td>\n",
       "    </tr>\n",
       "    <tr>\n",
       "      <th>1620</th>\n",
       "      <td>3003</td>\n",
       "      <td>7520174</td>\n",
       "    </tr>\n",
       "    <tr>\n",
       "      <th>1621</th>\n",
       "      <td>3004</td>\n",
       "      <td>8156904</td>\n",
       "    </tr>\n",
       "    <tr>\n",
       "      <th>...</th>\n",
       "      <td>...</td>\n",
       "      <td>...</td>\n",
       "    </tr>\n",
       "    <tr>\n",
       "      <th>5014</th>\n",
       "      <td>3990</td>\n",
       "      <td>2561988</td>\n",
       "    </tr>\n",
       "    <tr>\n",
       "      <th>5015</th>\n",
       "      <td>3991</td>\n",
       "      <td>5454656</td>\n",
       "    </tr>\n",
       "    <tr>\n",
       "      <th>5016</th>\n",
       "      <td>3992</td>\n",
       "      <td>14858042</td>\n",
       "    </tr>\n",
       "    <tr>\n",
       "      <th>5017</th>\n",
       "      <td>3995</td>\n",
       "      <td>150330074</td>\n",
       "    </tr>\n",
       "    <tr>\n",
       "      <th>5018</th>\n",
       "      <td>3996</td>\n",
       "      <td>97403105</td>\n",
       "    </tr>\n",
       "  </tbody>\n",
       "</table>\n",
       "<p>1402 rows × 2 columns</p>\n",
       "</div>"
      ],
      "text/plain": [
       "     Postcode  Salary/Wages\n",
       "1617     3000      59170073\n",
       "1618     3001        150605\n",
       "1619     3002       3531588\n",
       "1620     3003       7520174\n",
       "1621     3004       8156904\n",
       "...       ...           ...\n",
       "5014     3990       2561988\n",
       "5015     3991       5454656\n",
       "5016     3992      14858042\n",
       "5017     3995     150330074\n",
       "5018     3996      97403105\n",
       "\n",
       "[1402 rows x 2 columns]"
      ]
     },
     "execution_count": 35,
     "metadata": {},
     "output_type": "execute_result"
    }
   ],
   "source": [
    "df_vic_salary_wages = df_vic[['Postcode', 'Salary or wages\\n$']].copy()\n",
    "df_vic_salary_wages = df_vic_salary_wages.rename(columns={'Salary or wages\\n$': 'Salary/Wages'})\n",
    "df_vic_salary_wages = df_vic_salary_wages[df_vic_salary_wages['Postcode'] != 'VIC other']\n",
    "df_vic_salary_wages"
   ]
  },
  {
   "cell_type": "code",
   "execution_count": 36,
   "id": "a87d0d46",
   "metadata": {},
   "outputs": [
    {
     "name": "stderr",
     "output_type": "stream",
     "text": [
      "C:\\Users\\dylan\\anaconda3\\lib\\site-packages\\sklearn\\cluster\\_kmeans.py:881: UserWarning: KMeans is known to have a memory leak on Windows with MKL, when there are less chunks than available threads. You can avoid it by setting the environment variable OMP_NUM_THREADS=6.\n",
      "  warnings.warn(\n"
     ]
    }
   ],
   "source": [
    "sse = []\n",
    "k_rng = range(1,10)\n",
    "for k in k_rng:\n",
    "    km = KMeans(n_clusters=k)\n",
    "    km.fit(df_vic_taxable_income)\n",
    "    sse.append(km.inertia_)"
   ]
  },
  {
   "cell_type": "code",
   "execution_count": 37,
   "id": "1687c0f3",
   "metadata": {},
   "outputs": [
    {
     "data": {
      "text/plain": [
       "[<matplotlib.lines.Line2D at 0x1db24faa040>]"
      ]
     },
     "execution_count": 37,
     "metadata": {},
     "output_type": "execute_result"
    },
    {
     "data": {
      "image/png": "[encoded data removed]",
      "text/plain": [
       "<Figure size 432x288 with 1 Axes>"
      ]
     },
     "metadata": {
      "needs_background": "light"
     },
     "output_type": "display_data"
    }
   ],
   "source": [
    "plt.xlabel('K')\n",
    "plt.ylabel('Sum of squared error')\n",
    "plt.plot(k_rng,sse)"
   ]
  },
  {
   "cell_type": "code",
   "execution_count": 38,
   "id": "153a7f58",
   "metadata": {},
   "outputs": [],
   "source": [
    "km = KMeans(n_clusters=4)\n",
    "yp = km.fit_predict(df_vic_salary_wages)\n",
    "\n",
    "df_vic_salary_wages['cluster'] = yp\n",
    "\n",
    "df1 = df_vic_salary_wages[df_vic_salary_wages.cluster==0]\n",
    "df2 = df_vic_salary_wages[df_vic_salary_wages.cluster==1]\n",
    "df3 = df_vic_salary_wages[df_vic_salary_wages.cluster==2]\n",
    "df4 = df_vic_salary_wages[df_vic_salary_wages.cluster==3]"
   ]
  },
  {
   "cell_type": "code",
   "execution_count": 39,
   "id": "7af19b6d",
   "metadata": {},
   "outputs": [
    {
     "data": {
      "text/plain": [
       "<matplotlib.collections.PathCollection at 0x1db251b7c70>"
      ]
     },
     "execution_count": 39,
     "metadata": {},
     "output_type": "execute_result"
    },
    {
     "data": {
      "image/png": "[encoded data removed]",
      "text/plain": [
       "<Figure size 432x288 with 1 Axes>"
      ]
     },
     "metadata": {
      "needs_background": "light"
     },
     "output_type": "display_data"
    }
   ],
   "source": [
    "plt.title(\"VIC Postcode Clusters Based on Salary/Wages\")\n",
    "plt.xlabel(\"Postcode\")\n",
    "plt.ylabel(\"Salary/Wages\")\n",
    "\n",
    "plt.scatter(df1['Postcode'],df1['Salary/Wages'],color='blue')\n",
    "plt.scatter(df2['Postcode'],df2['Salary/Wages'],color='green')\n",
    "plt.scatter(df3['Postcode'],df3['Salary/Wages'],color='yellow')\n",
    "plt.scatter(df4['Postcode'],df4['Salary/Wages'],color='red')"
   ]
  },
  {
   "cell_type": "code",
   "execution_count": null,
   "id": "bb1d9bf7",
   "metadata": {},
   "outputs": [],
   "source": []
  }
 ],
 "metadata": {
  "kernelspec": {
   "display_name": "Python 3 (ipykernel)",
   "language": "python",
   "name": "python3"
  },
  "language_info": {
   "codemirror_mode": {
    "name": "ipython",
    "version": 3
   },
   "file_extension": ".py",
   "mimetype": "text/x-python",
   "name": "python",
   "nbconvert_exporter": "python",
   "pygments_lexer": "ipython3",
   "version": "3.8.8"
  }
 },
 "nbformat": 4,
 "nbformat_minor": 5
}
